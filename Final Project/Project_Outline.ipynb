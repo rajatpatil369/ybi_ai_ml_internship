{
 "cells": [
  {
   "cell_type": "markdown",
   "metadata": {
    "id": "dqZ-nhxiganh"
   },
   "source": [
    "# **Title of Project**"
   ]
  },
  {
   "cell_type": "markdown",
   "metadata": {
    "id": "gScHkw6jjrLo"
   },
   "source": [
    "-------------"
   ]
  },
  {
   "cell_type": "markdown",
   "metadata": {
    "id": "Xns_rCdhh-vZ"
   },
   "source": [
    "## **Objective**"
   ]
  },
  {
   "cell_type": "markdown",
   "metadata": {
    "id": "9sPvnFM1iI9l"
   },
   "source": []
  },
  {
   "cell_type": "markdown",
   "metadata": {
    "id": "-Vbnt9CciKJP"
   },
   "source": [
    "## **Data Source**"
   ]
  },
  {
   "cell_type": "markdown",
   "metadata": {
    "id": "sGcv5WqQiNyl"
   },
   "source": []
  },
  {
   "cell_type": "markdown",
   "metadata": {
    "id": "r7GrZzX0iTlV"
   },
   "source": [
    "## **Import Library**"
   ]
  },
  {
   "cell_type": "code",
   "execution_count": null,
   "metadata": {
    "id": "UkK6NH9DiW-X"
   },
   "outputs": [],
   "source": []
  },
  {
   "cell_type": "markdown",
   "metadata": {
    "id": "9lHPQj1XiOUc"
   },
   "source": [
    "## **Import Data**"
   ]
  },
  {
   "cell_type": "code",
   "execution_count": null,
   "metadata": {
    "id": "zcU1fdnGho6M"
   },
   "outputs": [],
   "source": []
  },
  {
   "cell_type": "markdown",
   "metadata": {
    "id": "7PUnimBoiX-x"
   },
   "source": [
    "## **Describe Data**"
   ]
  },
  {
   "cell_type": "code",
   "execution_count": null,
   "metadata": {
    "id": "kG15arusiZ8Z"
   },
   "outputs": [],
   "source": []
  },
  {
   "cell_type": "markdown",
   "metadata": {
    "id": "oBGX4Ekniriz"
   },
   "source": [
    "## **Data Visualization**"
   ]
  },
  {
   "cell_type": "code",
   "execution_count": null,
   "metadata": {
    "id": "lW-OIRK0iuzO"
   },
   "outputs": [],
   "source": []
  },
  {
   "cell_type": "markdown",
   "metadata": {
    "id": "UqfyPOCYiiww"
   },
   "source": [
    "## **Data Preprocessing**"
   ]
  },
  {
   "cell_type": "code",
   "execution_count": null,
   "metadata": {
    "id": "3cyr3fbGin0A"
   },
   "outputs": [],
   "source": []
  },
  {
   "cell_type": "markdown",
   "metadata": {
    "id": "2jXJpdAuiwYW"
   },
   "source": [
    "## **Define Target Variable (y) and Feature Variables (X)**"
   ]
  },
  {
   "cell_type": "code",
   "execution_count": null,
   "metadata": {
    "id": "QBCakTuli57t"
   },
   "outputs": [],
   "source": []
  },
  {
   "cell_type": "markdown",
   "metadata": {
    "id": "90_0q_Pbi658"
   },
   "source": [
    "## **Train Test Split**"
   ]
  },
  {
   "cell_type": "code",
   "execution_count": null,
   "metadata": {
    "id": "u60YYaOFi-Dw"
   },
   "outputs": [],
   "source": []
  },
  {
   "cell_type": "markdown",
   "metadata": {
    "id": "cIhyseNria7W"
   },
   "source": [
    "## **Modeling**"
   ]
  },
  {
   "cell_type": "code",
   "execution_count": null,
   "metadata": {
    "id": "Toq58wpkjCw7"
   },
   "outputs": [],
   "source": []
  },
  {
   "cell_type": "markdown",
   "metadata": {
    "id": "vhAwWfG0jFun"
   },
   "source": [
    "## **Model Evaluation**"
   ]
  },
  {
   "cell_type": "code",
   "execution_count": null,
   "metadata": {
    "id": "lND3jJj_jhx4"
   },
   "outputs": [],
   "source": []
  },
  {
   "cell_type": "markdown",
   "metadata": {
    "id": "8AzwG7oLjiQI"
   },
   "source": [
    "## **Prediction**"
   ]
  },
  {
   "cell_type": "code",
   "execution_count": null,
   "metadata": {
    "id": "JLebGzDJjknA"
   },
   "outputs": [],
   "source": []
  },
  {
   "cell_type": "markdown",
   "metadata": {
    "id": "SBo38CJZjlEX"
   },
   "source": [
    "## **Explaination**"
   ]
  },
  {
   "cell_type": "markdown",
   "metadata": {
    "id": "Ybi8FR9Kjv00"
   },
   "source": []
  }
 ],
 "metadata": {
  "colab": {
   "authorship_tag": "ABX9TyPZl4d0nA5Qmq8X1mDqSb1O",
   "name": "Project Outline.ipynb",
   "provenance": []
  },
  "kernelspec": {
   "display_name": "Python 3 (ipykernel)",
   "language": "python",
   "name": "python3"
  },
  "language_info": {
   "codemirror_mode": {
    "name": "ipython",
    "version": 3
   },
   "file_extension": ".py",
   "mimetype": "text/x-python",
   "name": "python",
   "nbconvert_exporter": "python",
   "pygments_lexer": "ipython3",
   "version": "3.9.2"
  }
 },
 "nbformat": 4,
 "nbformat_minor": 1
}
